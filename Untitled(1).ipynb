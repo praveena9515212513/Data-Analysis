{
 "cells": [
  {
   "cell_type": "code",
   "execution_count": 1,
   "id": "bed1e020",
   "metadata": {},
   "outputs": [],
   "source": [
    "import numpy as np\n",
    "wines = np.loadtxt(\"winequality-red (2).csv\",delimiter=\";\",dtype=\"float\",skiprows=1)"
   ]
  },
  {
   "cell_type": "code",
   "execution_count": 2,
   "id": "66f3a058",
   "metadata": {},
   "outputs": [
    {
     "name": "stdout",
     "output_type": "stream",
     "text": [
      "[[ 7.4    0.7    0.    ...  0.56   9.4    5.   ]\n",
      " [ 7.8    0.88   0.    ...  0.68   9.8    5.   ]\n",
      " [ 7.8    0.76   0.04  ...  0.65   9.8    5.   ]\n",
      " ...\n",
      " [ 6.3    0.51   0.13  ...  0.75  11.     6.   ]\n",
      " [ 5.9    0.645  0.12  ...  0.71  10.2    5.   ]\n",
      " [ 6.     0.31   0.47  ...  0.66  11.     6.   ]]\n"
     ]
    }
   ],
   "source": [
    "print(wines)"
   ]
  },
  {
   "cell_type": "code",
   "execution_count": 3,
   "id": "818f0dcb",
   "metadata": {},
   "outputs": [
    {
     "data": {
      "text/plain": [
       "(1599, 12)"
      ]
     },
     "execution_count": 3,
     "metadata": {},
     "output_type": "execute_result"
    }
   ],
   "source": [
    "np.shape(wines)"
   ]
  },
  {
   "cell_type": "code",
   "execution_count": 4,
   "id": "0a507da2",
   "metadata": {},
   "outputs": [
    {
     "data": {
      "text/plain": [
       "0.075"
      ]
     },
     "execution_count": 4,
     "metadata": {},
     "output_type": "execute_result"
    }
   ],
   "source": [
    "wines[3][4]"
   ]
  },
  {
   "cell_type": "code",
   "execution_count": 5,
   "id": "4f928409",
   "metadata": {},
   "outputs": [
    {
     "name": "stdout",
     "output_type": "stream",
     "text": [
      "[0.076 0.098 0.092]\n"
     ]
    }
   ],
   "source": [
    "print(wines[:3,4])"
   ]
  },
  {
   "cell_type": "code",
   "execution_count": 6,
   "id": "282b3281",
   "metadata": {},
   "outputs": [
    {
     "name": "stdout",
     "output_type": "stream",
     "text": [
      "[1.9 2.6 2.3 ... 2.3 2.  3.6]\n"
     ]
    }
   ],
   "source": [
    "print(wines[:,3])"
   ]
  },
  {
   "cell_type": "code",
   "execution_count": 7,
   "id": "f3d269bd",
   "metadata": {},
   "outputs": [
    {
     "name": "stdout",
     "output_type": "stream",
     "text": [
      "[ 7.4     0.7     0.      1.9     0.076  11.     34.      0.9978  3.51\n",
      "  0.56    9.4     5.    ]\n"
     ]
    }
   ],
   "source": [
    "print(wines[4])"
   ]
  },
  {
   "cell_type": "code",
   "execution_count": 8,
   "id": "2f2eaf65",
   "metadata": {},
   "outputs": [],
   "source": [
    "wines[2][6]=10"
   ]
  },
  {
   "cell_type": "code",
   "execution_count": 9,
   "id": "9e54d8ac",
   "metadata": {},
   "outputs": [
    {
     "name": "stdout",
     "output_type": "stream",
     "text": [
      "[ 9.4  9.8  9.8 ... 11.  10.2 11. ]\n",
      "[666. 666. 666. ... 666. 666. 666.]\n"
     ]
    }
   ],
   "source": [
    "slice_new = wines[:,10]\n",
    "print(slice_new)\n",
    "slice_new[:] = 666\n",
    "print(slice_new)"
   ]
  },
  {
   "cell_type": "code",
   "execution_count": 10,
   "id": "54d0d541",
   "metadata": {},
   "outputs": [
    {
     "name": "stdout",
     "output_type": "stream",
     "text": [
      "[[7.40e+00 7.00e-01 0.00e+00 ... 5.60e-01 6.66e+02 5.00e+00]\n",
      " [7.80e+00 8.80e-01 0.00e+00 ... 6.80e-01 6.66e+02 5.00e+00]\n",
      " [7.80e+00 7.60e-01 4.00e-02 ... 6.50e-01 6.66e+02 5.00e+00]\n",
      " ...\n",
      " [6.30e+00 5.10e-01 1.30e-01 ... 7.50e-01 6.66e+02 6.00e+00]\n",
      " [5.90e+00 6.45e-01 1.20e-01 ... 7.10e-01 6.66e+02 5.00e+00]\n",
      " [6.00e+00 3.10e-01 4.70e-01 ... 6.60e-01 6.66e+02 6.00e+00]]\n"
     ]
    }
   ],
   "source": [
    "print(wines)"
   ]
  },
  {
   "cell_type": "code",
   "execution_count": 11,
   "id": "fe633cc6",
   "metadata": {},
   "outputs": [
    {
     "name": "stdout",
     "output_type": "stream",
     "text": [
      "float64\n"
     ]
    }
   ],
   "source": [
    "print(wines.dtype)\n",
    "wines=np.array(wines,dtype=int)"
   ]
  },
  {
   "cell_type": "code",
   "execution_count": 12,
   "id": "74e742ce",
   "metadata": {},
   "outputs": [
    {
     "name": "stdout",
     "output_type": "stream",
     "text": [
      "[[  7   0   0 ...   0 666   5]\n",
      " [  7   0   0 ...   0 666   5]\n",
      " [  7   0   0 ...   0 666   5]\n",
      " ...\n",
      " [  6   0   0 ...   0 666   6]\n",
      " [  5   0   0 ...   0 666   5]\n",
      " [  6   0   0 ...   0 666   6]]\n"
     ]
    }
   ],
   "source": [
    "print(wines)"
   ]
  },
  {
   "cell_type": "code",
   "execution_count": 13,
   "id": "61f166dc",
   "metadata": {},
   "outputs": [
    {
     "name": "stdout",
     "output_type": "stream",
     "text": [
      "[5 5 5 ... 6 5 6]\n",
      "[15 15 15 ... 16 15 16]\n"
     ]
    }
   ],
   "source": [
    "print(wines[:,-1])\n",
    "wines[:,-1]=wines[:,-1]+10\n",
    "print(wines[:,-1])"
   ]
  },
  {
   "cell_type": "code",
   "execution_count": 14,
   "id": "a3c29415",
   "metadata": {},
   "outputs": [
    {
     "name": "stdout",
     "output_type": "stream",
     "text": [
      "[[  7   0   0 ...   0 666  15]\n",
      " [  7   0   0 ...   0 666  15]\n",
      " [  7   0   0 ...   0 666  15]\n",
      " ...\n",
      " [  6   0   0 ...   0 666  16]\n",
      " [  5   0   0 ...   0 666  15]\n",
      " [  6   0   0 ...   0 666  16]]\n"
     ]
    }
   ],
   "source": [
    "print(wines)"
   ]
  },
  {
   "cell_type": "code",
   "execution_count": 15,
   "id": "3bfbc445",
   "metadata": {},
   "outputs": [
    {
     "name": "stdout",
     "output_type": "stream",
     "text": [
      "1210450\n",
      "1210450\n"
     ]
    }
   ],
   "source": [
    "print(np.sum(wines))\n",
    "print(sum(sum(wines)))"
   ]
  },
  {
   "cell_type": "code",
   "execution_count": 16,
   "id": "a68feadc",
   "metadata": {},
   "outputs": [
    {
     "name": "stdout",
     "output_type": "stream",
     "text": [
      "[  12589      24       1    3350       0   25382   74257      81    4770\n",
      "      60 1064934   25002]\n",
      "25002\n",
      "[737 785 718 ... 762 767 754]\n"
     ]
    }
   ],
   "source": [
    "print(sum(wines))\n",
    "print(sum(wines[:,-1]))\n",
    "print(np.sum(wines,axis=1))"
   ]
  },
  {
   "cell_type": "code",
   "execution_count": 17,
   "id": "cd9820d6",
   "metadata": {},
   "outputs": [
    {
     "name": "stdout",
     "output_type": "stream",
     "text": [
      "737\n",
      "785\n",
      "718\n",
      .....
      "782\n",
      "762\n",
      "767\n",
      "754\n"
     ]
    }
   ],
   "source": [
    "for i in range(len(wines)):\n",
    "    print(sum(wines[i,:]))"
   ]
  },
  {
   "cell_type": "code",
   "execution_count": 18,
   "id": "0292cee3",
   "metadata": {},
   "outputs": [
    {
     "data": {
      "text/plain": [
       "array([[  7,   0,   0, ..., 666,  15,  15],\n",
       "       [  7,   0,   0, ..., 666,  15,  15],\n",
       "       [  7,   0,   0, ..., 666,  15,  15],\n",
       "       ...,\n",
       "       [  6,   0,   0, ..., 666,  16,  16],\n",
       "       [  5,   0,   0, ..., 666,  15,  15],\n",
       "       [  6,   0,   0, ..., 666,  16,  16]])"
      ]
     },
     "execution_count": 18,
     "metadata": {},
     "output_type": "execute_result"
    }
   ],
   "source": [
    "np.insert(wines,-1,wines[:,-1],axis=1)"
   ]
  },
  {
   "cell_type": "code",
   "execution_count": 19,
   "id": "fd711817",
   "metadata": {},
   "outputs": [
    {
     "name": "stdout",
     "output_type": "stream",
     "text": [
      "[666 666 666 ... 666 666 666]\n",
      "[15 15 15 ... 16 15 16]\n",
      "[ 9990  9990  9990 ... 10656  9990 10656]\n"
     ]
    }
   ],
   "source": [
    "print(wines[:,-2])\n",
    "print(wines[:,-1])\n",
    "a=wines[:,-2]*wines[:,-1]\n",
    "print(a)"
   ]
  },
  {
   "cell_type": "code",
   "execution_count": 39,
   "id": "1c978b6e",
   "metadata": {},
   "outputs": [
    {
     "name": "stdout",
     "output_type": "stream",
     "text": [
      "[ True  True  True ...  True  True  True]\n",
      "[15 15 15 ... 16 15 16]\n"
     ]
    }
   ],
   "source": [
    "a=wines[:,-1]>5\n",
    "print(a)\n",
    "print(wines[:,-1][a])"
   ]
  },
  {
   "cell_type": "code",
   "execution_count": 43,
   "id": "f1402c73",
   "metadata": {},
   "outputs": [
    {
     "data": {
      "text/plain": [
       "1599"
      ]
     },
     "execution_count": 43,
     "metadata": {},
     "output_type": "execute_result"
    }
   ],
   "source": [
    "len(wines[np.where(wines[:,-1]>5)])"
   ]
  },
  {
   "cell_type": "code",
   "execution_count": 21,
   "id": "59b9505b",
   "metadata": {},
   "outputs": [
    {
     "name": "stdout",
     "output_type": "stream",
     "text": [
      "[]\n"
     ]
    }
   ],
   "source": [
    "b=wines[:,-1]==10\n",
    "print(wines[:,-1][b])"
   ]
  },
  {
   "cell_type": "code",
   "execution_count": 22,
   "id": "7989c4a8",
   "metadata": {},
   "outputs": [
    {
     "name": "stdout",
     "output_type": "stream",
     "text": [
      "[15 15 15 ... 16 15 16]\n"
     ]
    }
   ],
   "source": [
    "a=wines[:,-1]>15\n",
    "print(wines[:,-1])"
   ]
  },
  {
   "cell_type": "code",
   "execution_count": 23,
   "id": "a55ede53",
   "metadata": {},
   "outputs": [
    {
     "name": "stdout",
     "output_type": "stream",
     "text": [
      "[15 15 15 ... 16 15 16]\n"
     ]
    }
   ],
   "source": [
    "a=wines[:,-1]>7\n",
    "print(wines[:,-1][a])"
   ]
  },
  {
   "cell_type": "code",
   "execution_count": 24,
   "id": "9ebea900",
   "metadata": {},
   "outputs": [
    {
     "name": "stdout",
     "output_type": "stream",
     "text": [
      "[False False False ... False False False]\n",
      "[0 0 0 ... 0 0 0]\n"
     ]
    }
   ],
   "source": [
    "a=wines[:,-1]>7\n",
    "b=wines[:,-3]>10\n",
    "print(b[a])\n",
    "print(wines[:,-3])"
   ]
  },
  {
   "cell_type": "code",
   "execution_count": 37,
   "id": "a52f0e1b",
   "metadata": {},
   "outputs": [
    {
     "name": "stdout",
     "output_type": "stream",
     "text": [
      "[[  7   0   0 ...   0 666  15]\n",
      " [  7   0   0 ...   0 666  15]\n",
      " [  7   0   0 ...   0 666  15]\n",
      " ...\n",
      " [  6   0   0 ...   0 666  16]\n",
      " [  5   0   0 ...   0 666  15]\n",
      " [  6   0   0 ...   0 666  16]]\n",
      "(533, 36)\n",
      "[[  7   0   0 ...   0 666  15]\n",
      " [ 11   0   0 ...   0 666  15]\n",
      " [  7   0   0 ...   0 666  17]\n",
      " ...\n",
      " [  6   0   0 ...   0 666  16]\n",
      " [  6   0   0 ...   0 666  16]\n",
      " [  6   0   0 ...   0 666  16]]\n"
     ]
    }
   ],
   "source": [
    "print(wines)\n",
    "a=np.reshape(wines,(533,36))\n",
    "print(a.shape)\n",
    "print(a)"
   ]
  }
 ],
 "metadata": {
  "kernelspec": {
   "display_name": "Python 3 (ipykernel)",
   "language": "python",
   "name": "python3"
  },
  "language_info": {
   "codemirror_mode": {
    "name": "ipython",
    "version": 3
   },
   "file_extension": ".py",
   "mimetype": "text/x-python",
   "name": "python",
   "nbconvert_exporter": "python",
   "pygments_lexer": "ipython3",
   "version": "3.9.7"
  }
 },
 "nbformat": 4,
 "nbformat_minor": 5
}
